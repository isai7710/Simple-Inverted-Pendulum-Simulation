{
 "cells": [
  {
   "cell_type": "code",
   "execution_count": null,
   "metadata": {},
   "outputs": [],
   "source": [
    "import sympy as sp\n",
    "from sympy import init_printing\n",
    "from IPython.display import Math, display\n",
    "from sympy.physics.vector import dynamicsymbols\n",
    "from sympy.physics.vector.printing import vpprint, vlatex\n",
    "init_printing(use_latex=True)\n",
    "\n",
    "# importing these functions directly to make life a little easier and code a little more readable\n",
    "from sympy import sin, cos, diff, Matrix, symbols, Function, pretty_print, simplify, init_printing, latex\n",
    "\n",
    "#defining mathematical variables (called symbols in sp) and time varying functions like z and theta\n",
    "t, m1, m2, ell, g = symbols('t, m1, m2, ell, g')\n",
    "theta = sp.Function('theta')(t)\n",
    "z = sp.Function('z')(t)\n",
    "\n",
    "#defining generalized coords and derivatives\n",
    "q = Matrix([[theta], [z]])\n",
    "qdot = diff(q, t)  #q.diff(t)\n",
    "\n",
    "#To define Kinetic Energy:\n",
    "# first write position vector to center of mass of each individual body\n",
    "p1 = Matrix([[z+ell/2.0*sin(theta)], [ell/2.0*cos(theta)], [0]])\n",
    "p2 = Matrix([[z], [0], [0]])\n",
    "# differentiate position vectors to obtain velocity\n",
    "v1 = diff(p1, t)\n",
    "v2 = diff(p2, t)\n",
    "# omega is angular velocity of bar and J is inertia matrix\n",
    "omega = Matrix([[0], [0], [diff(theta,t)]])\n",
    "I = Matrix([[0, 0, 0], [0, 0, 0], [0, 0, m1*ell**2/12.0]])\n",
    "# now calculate kinetic energy\n",
    "K = simplify(0.5*m1*v1.T*v1 + 0.5*m2*v2.T*v2 + 0.5*omega.T*I*omega)\n",
    "K = K[0,0]\n",
    "\n",
    "print(\"Kinetic energy for inverted pendulum:\")\n",
    "print(type(K))\n",
    "display(K)\n",
    "\n",
    "#defining potential energy (MUST BE A MATRIX as well to do L = K-P)\n",
    "print(\"Potential energy for inverted pendulum:\")\n",
    "P = m1*g*ell/2.0*(cos(theta)-1)\n",
    "print(type(P))\n",
    "display(P)\n",
    "\n",
    "#calculate the lagrangian, using simplify intermittently can help the equations to be\n",
    "#simpler, there are also options for factoring and grouping if you look at the sympy\n",
    "#documentation.\n",
    "L = simplify(K-P)\n",
    "# Solution for Euler-Lagrange equations, but this does not include right-hand side (like -B*q_dot and tau)\n",
    "EL_case_studyB = simplify( diff(diff(L, qdot), t) - diff(L, q) )\n",
    "\n",
    "# if you want to use the latex output, you can put it in a latex editor, or website like\n",
    "# this - https://arachnoid.com/latex/. Some interactive python IDEs will render the latex\n",
    "# code directly (such as Jupyter notebooks), but I can't get pycharm to do it.\n",
    "print(\"\\n\\n\\n\\n Latex code:\\n\", latex(EL_case_studyB))\n",
    "\n",
    "# we can write this latex code to file if that's helpful:\n",
    "out_file = open(\"latex_EL_case_studyB.txt\",\"w\")\n",
    "out_file.write(latex(EL_case_studyB))\n",
    "out_file.close()\n",
    "\n",
    "# we can also just see the output like this:\n",
    "print(\"\\n\\n\\n\\n Solution for case study B (compare with book solution)\")\n",
    "display(Math(vlatex(EL_case_studyB)))\n"
   ]
  },
  {
   "cell_type": "code",
   "execution_count": null,
   "metadata": {},
   "outputs": [],
   "source": [
    "import sympy as sp\n",
    "from sympy import init_printing\n",
    "from IPython.display import Math, display\n",
    "from sympy.physics.vector import dynamicsymbols\n",
    "from sympy.physics.vector.printing import vpprint, vlatex\n",
    "init_printing(use_latex=True)\n",
    "\n",
    "# importing these functions directly to make life a little easier and code a little more readable\n",
    "from sympy import sin, cos, diff, Matrix, zeros, symbols, Function, pretty_print, simplify, init_printing, latex\n",
    "\n",
    "t, m1, m2, ell, g, F, b = symbols('t, m1, m2, ell, g, F, b')\n",
    "theta = sp.Function('theta')(t)\n",
    "z = sp.Function('z')(t)\n",
    "thetadot = diff(theta, t)\n",
    "zdot = diff(z, t)\n",
    "M = Matrix([\n",
    "    [(ell**2/3)*m1, (ell/2)*m1*cos(theta)],\n",
    "    [(ell/2)*m1*cos(theta), m1+m2]\n",
    "])\n",
    "display(Math(vlatex(M)))\n",
    "C = Matrix([\n",
    "    [(ell/2)*m1*g*sin(theta)],\n",
    "    [(ell/2)*m1*diff(theta,t)**2*sin(theta)+F-b*diff(z,t)]\n",
    "])\n",
    "display(Math(vlatex(C)))\n",
    "display(Math(vlatex(M.inv())))\n",
    "qddot = M.inv()*C\n",
    "f3 = qddot[0,0]\n",
    "f4 = qddot[1,0]\n",
    "# display(Math(vlatex(qddot)))\n",
    "A = zeros(4,4)\n",
    "A[0, 2] = 1\n",
    "A[1, 3] = 1\n",
    "A[2, 0] = simplify(diff(f3, theta))\n",
    "display(A)\n"
   ]
  },
  {
   "cell_type": "code",
   "execution_count": null,
   "metadata": {},
   "outputs": [],
   "source": [
    "import sympy as sp\n",
    "from sympy import init_printing\n",
    "from IPython.display import Math, display\n",
    "from sympy.physics.vector import dynamicsymbols\n",
    "from sympy.physics.vector.printing import vpprint, vlatex\n",
    "init_printing(use_latex=True)\n",
    "\n",
    "# importing these functions directly to make life a little easier and code a little more readable\n",
    "from sympy import sin, cos, diff, Matrix, zeros, symbols, Function, pretty_print, simplify, init_printing, latex\n",
    "\n",
    "t, m1, m2, ell, g, F, b = symbols('t, m1, m2, ell, g, F, b')\n",
    "theta = sp.Function('theta')(t)\n",
    "z = sp.Function('z')(t)\n",
    "thetadot = diff(theta, t)\n",
    "zdot = diff(z, t)\n",
    "M = Matrix([\n",
    "    [(ell**2/3)*m1, (ell/2)*m1],\n",
    "    [(ell/2)*m1, m1+m2]\n",
    "])\n",
    "display(Math(vlatex(M)))\n",
    "C = Matrix([\n",
    "    [(ell/2)*m1*g*theta],\n",
    "    [F-b*diff(z,t)]\n",
    "])\n",
    "display(Math(vlatex(C)))\n",
    "display(Math(vlatex(M.inv())))\n",
    "qddot = M.inv()*C\n",
    "display(Math(vlatex(qddot)))"
   ]
  },
  {
   "cell_type": "code",
   "execution_count": 18,
   "metadata": {},
   "outputs": [
    {
     "data": {
      "text/latex": [
       "$\\displaystyle \\left[\\begin{matrix}\\frac{\\ell g m_{1} \\cdot \\left(12 m_{1} + 12 m_{2}\\right) \\theta}{2 \\left(\\ell^{2} m_{1}^{2} + 4 \\ell^{2} m_{1} m_{2}\\right)} - \\frac{6 \\left(F - b \\dot{z}\\right)}{\\ell m_{1} + 4 \\ell m_{2}}\\\\- \\frac{3 \\ell g m_{1} \\theta}{\\ell m_{1} + 4 \\ell m_{2}} + \\frac{4 \\left(F - b \\dot{z}\\right)}{m_{1} + 4 m_{2}}\\end{matrix}\\right]$"
      ],
      "text/plain": [
       "<IPython.core.display.Math object>"
      ]
     },
     "metadata": {},
     "output_type": "display_data"
    },
    {
     "data": {
      "text/latex": [
       "$\\displaystyle \\left[\\begin{matrix}0 & 0 & 1 & 0\\\\0 & 0 & 0 & 1\\\\\\frac{g \\left(6 m_{1} + 6 m_{2}\\right)}{\\ell \\left(m_{1} + 4 m_{2}\\right)} & 0 & 0 & 0\\\\- \\frac{3 g m_{1}}{m_{1} + 4 m_{2}} & 0 & 0 & 0\\end{matrix}\\right]$"
      ],
      "text/plain": [
       "⎡       0         0  1  0⎤\n",
       "⎢                        ⎥\n",
       "⎢       0         0  0  1⎥\n",
       "⎢                        ⎥\n",
       "⎢g⋅(6⋅m₁ + 6⋅m₂)         ⎥\n",
       "⎢───────────────  0  0  0⎥\n",
       "⎢ell⋅(m₁ + 4⋅m₂)         ⎥\n",
       "⎢                        ⎥\n",
       "⎢    -3⋅g⋅m₁             ⎥\n",
       "⎢   ─────────     0  0  0⎥\n",
       "⎣   m₁ + 4⋅m₂            ⎦"
      ]
     },
     "metadata": {},
     "output_type": "display_data"
    },
    {
     "data": {
      "text/latex": [
       "$\\displaystyle \\left[\\begin{matrix}0\\\\0\\\\- \\frac{6}{\\ell \\left(m_{1} + 4 m_{2}\\right)}\\\\\\frac{4}{m_{1} + 4 m_{2}}\\end{matrix}\\right]$"
      ],
      "text/plain": [
       "⎡       0       ⎤\n",
       "⎢               ⎥\n",
       "⎢       0       ⎥\n",
       "⎢               ⎥\n",
       "⎢      -6       ⎥\n",
       "⎢───────────────⎥\n",
       "⎢ell⋅(m₁ + 4⋅m₂)⎥\n",
       "⎢               ⎥\n",
       "⎢       4       ⎥\n",
       "⎢   ─────────   ⎥\n",
       "⎣   m₁ + 4⋅m₂   ⎦"
      ]
     },
     "metadata": {},
     "output_type": "display_data"
    },
    {
     "data": {
      "text/latex": [
       "$\\displaystyle \\left[\\begin{matrix}1 & 0 & 0 & 0\\\\0 & 1 & 0 & 0\\end{matrix}\\right]$"
      ],
      "text/plain": [
       "⎡1  0  0  0⎤\n",
       "⎢          ⎥\n",
       "⎣0  1  0  0⎦"
      ]
     },
     "metadata": {},
     "output_type": "display_data"
    },
    {
     "data": {
      "text/latex": [
       "$\\displaystyle \\left[\\begin{matrix}- \\frac{6}{\\ell m_{1} s^{2} + 4 \\ell m_{2} s^{2} - 6 g m_{1} - 6 g m_{2}}\\\\\\frac{2 \\cdot \\left(2 \\ell s^{2} - 3 g\\right)}{s^{2} \\left(\\ell m_{1} s^{2} + 4 \\ell m_{2} s^{2} - 6 g m_{1} - 6 g m_{2}\\right)}\\end{matrix}\\right]$"
      ],
      "text/plain": [
       "⎡                     -6                       ⎤\n",
       "⎢  ─────────────────────────────────────────   ⎥\n",
       "⎢          2             2                     ⎥\n",
       "⎢  ell⋅m₁⋅s  + 4⋅ell⋅m₂⋅s  - 6⋅g⋅m₁ - 6⋅g⋅m₂   ⎥\n",
       "⎢                                              ⎥\n",
       "⎢                ⎛       2      ⎞              ⎥\n",
       "⎢              2⋅⎝2⋅ell⋅s  - 3⋅g⎠              ⎥\n",
       "⎢──────────────────────────────────────────────⎥\n",
       "⎢ 2 ⎛        2             2                  ⎞⎥\n",
       "⎣s ⋅⎝ell⋅m₁⋅s  + 4⋅ell⋅m₂⋅s  - 6⋅g⋅m₁ - 6⋅g⋅m₂⎠⎦"
      ]
     },
     "metadata": {},
     "output_type": "display_data"
    },
    {
     "data": {
      "image/png": "[encoded data removed]",
      "text/latex": [
       "$\\displaystyle - \\frac{2 \\ell}{3} + \\frac{g}{s^{2}}$"
      ],
      "text/plain": [
       "  2⋅ell   g \n",
       "- ───── + ──\n",
       "    3      2\n",
       "          s "
      ]
     },
     "metadata": {},
     "output_type": "display_data"
    }
   ],
   "source": [
    "import sympy as sp\n",
    "from sympy import init_printing\n",
    "from IPython.display import Math, display\n",
    "from sympy.physics.vector import dynamicsymbols\n",
    "from sympy.physics.vector.printing import vpprint, vlatex\n",
    "init_printing(use_latex=True)\n",
    "\n",
    "# importing these functions directly to make life a little easier and code a little more readable\n",
    "from sympy import sin, cos, diff, Matrix, zeros, eye, symbols, Function, pretty_print, simplify, init_printing, latex\n",
    "\n",
    "t, m1, m2, ell, g, F, b, s = symbols('t, m1, m2, ell, g, F, b, s')\n",
    "theta = sp.Function('theta')(t)\n",
    "z = sp.Function('z')(t)\n",
    "thetadot = diff(theta, t)\n",
    "zdot = diff(z, t)\n",
    "M = Matrix([\n",
    "    [(ell**2/3)*m1, (ell/2)*m1],\n",
    "    [(ell/2)*m1, m1+m2]\n",
    "])\n",
    "# display(Math(vlatex(M)))\n",
    "C = Matrix([\n",
    "    [(ell/2)*m1*g*theta],\n",
    "    [F-b*diff(z,t)]\n",
    "])\n",
    "# display(Math(vlatex(C)))\n",
    "# display(Math(vlatex(M.inv())))\n",
    "qddot = M.inv()*C\n",
    "display(Math(vlatex(qddot)))\n",
    "A = zeros(4,4)\n",
    "A[0, 2] = 1\n",
    "A[1, 3] = 1\n",
    "A[2, 0] = (6*(m1+m2)*g)/(ell*(m1+4*m2))\n",
    "# A[2, 3] = (6*b)/(ell*(m1+4*m2))\n",
    "A[3, 0] = (-3*g*m1)/(m1+4*m2)\n",
    "# A[3, 3] = (-4*b)/(m1+4*m2)\n",
    "display(A)\n",
    "B = zeros(4,1)\n",
    "B[2,0] = -6/(ell*(m1+4*m2))\n",
    "B[3,0] = 4/(m1+4*m2)\n",
    "display(B)\n",
    "C = zeros(2, 4)\n",
    "C[0, 0] = 1\n",
    "C[1, 1] = 1\n",
    "display(C)\n",
    "I = eye(4)\n",
    "H = simplify(C*((s*I-A)**-1)*B)\n",
    "display(H)\n",
    "H2 = H[1,0]*(H[0,0]**-1)\n",
    "display(simplify(H2))"
   ]
  }
 ],
 "metadata": {
  "kernelspec": {
   "display_name": "Python 3",
   "language": "python",
   "name": "python3"
  },
  "language_info": {
   "codemirror_mode": {
    "name": "ipython",
    "version": 3
   },
   "file_extension": ".py",
   "mimetype": "text/x-python",
   "name": "python",
   "nbconvert_exporter": "python",
   "pygments_lexer": "ipython3",
   "version": "3.10.1"
  },
  "orig_nbformat": 4
 },
 "nbformat": 4,
 "nbformat_minor": 2
}
